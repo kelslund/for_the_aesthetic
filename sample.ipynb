{
 "cells": [
  {
   "cell_type": "code",
   "execution_count": 25,
   "id": "9b97c6bb",
   "metadata": {},
   "outputs": [],
   "source": [
    "import numpy as np\n",
    "import matplotlib.pyplot as plt\n",
    "from matplotlib.colors import ListedColormap\n",
    "plt.rcParams['font.family'],plt.rcParams['font.size'] = 'serif',12"
   ]
  },
  {
   "cell_type": "code",
   "execution_count": 42,
   "id": "4df977a7",
   "metadata": {},
   "outputs": [
    {
     "data": {
      "image/png": "[encoded data removed]",
      "text/plain": [
       "<Figure size 360x144 with 1 Axes>"
      ]
     },
     "metadata": {},
     "output_type": "display_data"
    }
   ],
   "source": [
    "bb = np.loadtxt('BrownBlue.txt')\n",
    "BB = ListedColormap(bb)\n",
    "\n",
    "plt.figure(figsize=(5,2))\n",
    "for i in range(len(bb)+1):\n",
    "    plt.fill_between((i-0.5,i+0.5),0,1,color=BB(i))\n",
    "plt.title('Brown Blue Diverging')\n",
    "plt.xticks([]),plt.yticks([])\n",
    "plt.ylim(0,1),plt.xlim(0,len(bb))\n",
    "plt.savefig('samples/brownblue_div.png')"
   ]
  },
  {
   "cell_type": "code",
   "execution_count": 43,
   "id": "78fa34aa",
   "metadata": {},
   "outputs": [
    {
     "data": {
      "image/png": "[encoded data removed]",
      "text/plain": [
       "<Figure size 360x144 with 1 Axes>"
      ]
     },
     "metadata": {},
     "output_type": "display_data"
    }
   ],
   "source": [
    "bb = np.loadtxt('cmocean_balance.txt')\n",
    "BB = ListedColormap(bb)\n",
    "\n",
    "plt.figure(figsize=(5,2))\n",
    "for i in range(len(bb)+1):\n",
    "    plt.fill_between((i-0.5,i+0.5),0,1,color=BB(i))\n",
    "plt.title('Blue-Red Diverging')\n",
    "plt.xticks([]),plt.yticks([])\n",
    "plt.ylim(0,1),plt.xlim(0,len(bb))\n",
    "plt.savefig('samples/balance_div.png')"
   ]
  },
  {
   "cell_type": "code",
   "execution_count": 45,
   "id": "d7c1c3b9",
   "metadata": {},
   "outputs": [
    {
     "data": {
      "image/png": "[encoded data removed]",
      "text/plain": [
       "<Figure size 360x144 with 1 Axes>"
      ]
     },
     "metadata": {},
     "output_type": "display_data"
    }
   ],
   "source": [
    "bb = np.loadtxt('cmocean_delta.txt')\n",
    "BB = ListedColormap(bb)\n",
    "\n",
    "plt.figure(figsize=(5,2))\n",
    "for i in range(len(bb)+1):\n",
    "    plt.fill_between((i-0.5,i+0.5),0,1,color=BB(i))\n",
    "plt.title('Blue-Teal Sequential')\n",
    "plt.xticks([]),plt.yticks([])\n",
    "plt.ylim(0,1),plt.xlim(0,len(bb))\n",
    "plt.savefig('samples/delta_div.png')"
   ]
  },
  {
   "cell_type": "code",
   "execution_count": 50,
   "id": "3c92f023",
   "metadata": {},
   "outputs": [
    {
     "data": {
      "image/png": "[encoded data removed]",
      "text/plain": [
       "<Figure size 360x144 with 1 Axes>"
      ]
     },
     "metadata": {},
     "output_type": "display_data"
    }
   ],
   "source": [
    "bb = np.loadtxt('cmocean_thermal.txt')\n",
    "BB = ListedColormap(bb)\n",
    "\n",
    "plt.figure(figsize=(5,2))\n",
    "for i in range(len(bb)+1):\n",
    "    plt.fill_between((i-0.5,i+0.5),0,1,color=BB(i))\n",
    "plt.title('Thermal Sequential')\n",
    "plt.xticks([]),plt.yticks([])\n",
    "plt.ylim(0,1),plt.xlim(0,len(bb))\n",
    "plt.savefig('samples/thermal_seq.png')"
   ]
  },
  {
   "cell_type": "code",
   "execution_count": 51,
   "id": "c1ca7a6a",
   "metadata": {},
   "outputs": [
    {
     "data": {
      "image/png": "[encoded data removed]",
      "text/plain": [
       "<Figure size 360x144 with 1 Axes>"
      ]
     },
     "metadata": {},
     "output_type": "display_data"
    }
   ],
   "source": [
    "bb = np.loadtxt('ocean_curl.txt')\n",
    "BB = ListedColormap(bb)\n",
    "\n",
    "plt.figure(figsize=(5,2))\n",
    "for i in range(len(bb)+1):\n",
    "    plt.fill_between((i-0.5,i+0.5),0,1,color=BB(i))\n",
    "plt.title('Blue Purple Diverging')\n",
    "plt.xticks([]),plt.yticks([])\n",
    "plt.ylim(0,1),plt.xlim(0,len(bb))\n",
    "plt.savefig('samples/thermal_div.png')"
   ]
  },
  {
   "cell_type": "code",
   "execution_count": 53,
   "id": "89b97215",
   "metadata": {},
   "outputs": [
    {
     "data": {
      "image/png": "[encoded data removed]",
      "text/plain": [
       "<Figure size 360x144 with 1 Axes>"
      ]
     },
     "metadata": {},
     "output_type": "display_data"
    }
   ],
   "source": [
    "bb = np.loadtxt('ocean_tempo.txt')\n",
    "BB = ListedColormap(bb)\n",
    "\n",
    "plt.figure(figsize=(5,2))\n",
    "for i in range(len(bb)+1):\n",
    "    plt.fill_between((i-0.5,i+0.5),0,1,color=BB(i))\n",
    "plt.title('Blue White Sequential')\n",
    "plt.xticks([]),plt.yticks([])\n",
    "plt.ylim(0,1),plt.xlim(0,len(bb))\n",
    "plt.savefig('samples/tempo_seq.png')"
   ]
  },
  {
   "cell_type": "code",
   "execution_count": 55,
   "id": "22f128da",
   "metadata": {},
   "outputs": [
    {
     "data": {
      "image/png": "[encoded data removed]",
      "text/plain": [
       "<Figure size 360x144 with 1 Axes>"
      ]
     },
     "metadata": {},
     "output_type": "display_data"
    }
   ],
   "source": [
    "bb = np.loadtxt('rpb_lovely.txt')\n",
    "BB = ListedColormap(bb)\n",
    "\n",
    "plt.figure(figsize=(5,2))\n",
    "for i in range(len(bb)+1):\n",
    "    plt.fill_between((i-0.5,i+0.5),0,1,color=BB(i))\n",
    "plt.title('Red to Blue Diverging')\n",
    "plt.xticks([]),plt.yticks([])\n",
    "plt.ylim(0,1),plt.xlim(0,len(bb))\n",
    "plt.savefig('samples/RPB_div.png')"
   ]
  },
  {
   "cell_type": "code",
   "execution_count": null,
   "id": "1950501d",
   "metadata": {},
   "outputs": [],
   "source": []
  }
 ],
 "metadata": {
  "kernelspec": {
   "display_name": "Python 3 (ipykernel)",
   "language": "python",
   "name": "python3"
  },
  "language_info": {
   "codemirror_mode": {
    "name": "ipython",
    "version": 3
   },
   "file_extension": ".py",
   "mimetype": "text/x-python",
   "name": "python",
   "nbconvert_exporter": "python",
   "pygments_lexer": "ipython3",
   "version": "3.8.5"
  }
 },
 "nbformat": 4,
 "nbformat_minor": 5
}
