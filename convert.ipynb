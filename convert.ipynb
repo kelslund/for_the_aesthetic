{
 "cells": [
  {
   "cell_type": "code",
   "execution_count": 1,
   "id": "511af9de",
   "metadata": {},
   "outputs": [],
   "source": [
    "cmap_name = 'rpb_lovely'\n",
    "\n",
    "old = open(cmap_name+'_old.txt','r')\n",
    "new = open(cmap_name+'.txt','w')"
   ]
  },
  {
   "cell_type": "code",
   "execution_count": 2,
   "id": "21f830b1",
   "metadata": {},
   "outputs": [],
   "source": [
    "for line in old:\n",
    "    val = line.split()\n",
    "    new.write(str(float(val[0])/255)+'\\t'+str(float(val[1])/255)+'\\t'+str(float(val[2])/255)+'\\n')\n",
    "old.close()\n",
    "new.close()"
   ]
  },
  {
   "cell_type": "code",
   "execution_count": null,
   "id": "520318df",
   "metadata": {},
   "outputs": [],
   "source": []
  }
 ],
 "metadata": {
  "kernelspec": {
   "display_name": "Python 3 (ipykernel)",
   "language": "python",
   "name": "python3"
  },
  "language_info": {
   "codemirror_mode": {
    "name": "ipython",
    "version": 3
   },
   "file_extension": ".py",
   "mimetype": "text/x-python",
   "name": "python",
   "nbconvert_exporter": "python",
   "pygments_lexer": "ipython3",
   "version": "3.8.5"
  }
 },
 "nbformat": 4,
 "nbformat_minor": 5
}
